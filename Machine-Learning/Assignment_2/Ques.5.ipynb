{
 "cells": [
  {
   "cell_type": "code",
   "execution_count": 1,
   "id": "03168da1",
   "metadata": {},
   "outputs": [],
   "source": [
    "import numpy as np\n",
    "import matplotlib.pyplot as plt\n",
    "from sklearn.preprocessing import StandardScaler\n",
    "from sklearn.cluster import DBSCAN\n",
    "from sklearn.model_selection import train_test_split\n",
    "from sklearn.decomposition import PCA\n",
    "from sklearn.metrics import silhouette_score\n",
    "import cv2\n",
    "import pandas as pd\n",
    "import idx2numpy\n",
    "import os\n",
    "from sklearn.neighbors import NearestNeighbors"
   ]
  },
  {
   "cell_type": "code",
   "execution_count": 2,
   "id": "1b36455b",
   "metadata": {},
   "outputs": [],
   "source": [
    "x_tr=idx2numpy.convert_from_file(\"train-images-idx3-ubyte\")\n",
    "x_te=idx2numpy.convert_from_file(\"t10k-images-idx3-ubyte\")\n",
    "y_tr=idx2numpy.convert_from_file(\"train-labels-idx1-ubyte\")\n",
    "y_te=idx2numpy.convert_from_file(\"t10k-labels-idx1-ubyte\")"
   ]
  },
  {
   "cell_type": "code",
   "execution_count": 3,
   "id": "ae798699",
   "metadata": {},
   "outputs": [],
   "source": [
    "X = np.concatenate((x_tr, x_te), axis=0)\n",
    "y = np.concatenate((y_tr, y_te), axis=0)"
   ]
  },
  {
   "cell_type": "code",
   "execution_count": 4,
   "id": "48306878",
   "metadata": {},
   "outputs": [],
   "source": [
    "X = X.reshape(70000, 784)"
   ]
  },
  {
   "cell_type": "code",
   "execution_count": 5,
   "id": "13857b0a",
   "metadata": {},
   "outputs": [
    {
     "data": {
      "text/plain": [
       "(70000, 784)"
      ]
     },
     "execution_count": 5,
     "metadata": {},
     "output_type": "execute_result"
    }
   ],
   "source": [
    "X.shape"
   ]
  },
  {
   "cell_type": "code",
   "execution_count": 6,
   "id": "7227c94a",
   "metadata": {},
   "outputs": [],
   "source": [
    "scaler = StandardScaler()\n",
    "X = pd.DataFrame(scaler.fit_transform(X))"
   ]
  },
  {
   "cell_type": "code",
   "execution_count": 4,
   "id": "2c0f3571",
   "metadata": {},
   "outputs": [],
   "source": [
    "# img_re=[]\n",
    "# for i in range(0,len(x_tr)):    \n",
    "#     res = cv2.resize(x_tr[i], dsize=(21, 21), interpolation=cv2.INTER_CUBIC)\n",
    "#     img_re.append(res)\n",
    "# img_re=np.array(img_re)\n",
    "# img_re=img_re.reshape(60000,441)\n"
   ]
  },
  {
   "cell_type": "code",
   "execution_count": 7,
   "id": "21316741",
   "metadata": {},
   "outputs": [],
   "source": [
    "X_train, X_test, y_train, y_test = train_test_split(X, y, test_size=0.2, random_state=1)\n",
    "X_train, X_val, y_train, y_val = train_test_split(X_train, y_train, test_size=0.125, random_state=1)"
   ]
  },
  {
   "cell_type": "code",
   "execution_count": 33,
   "id": "13acdee0",
   "metadata": {},
   "outputs": [
    {
     "data": {
      "text/plain": [
       "(49000, 200)"
      ]
     },
     "execution_count": 33,
     "metadata": {},
     "output_type": "execute_result"
    }
   ],
   "source": [
    "X_train.shape"
   ]
  },
  {
   "cell_type": "code",
   "execution_count": 197,
   "id": "368de45f",
   "metadata": {},
   "outputs": [],
   "source": [
    "sample = X_train[:7000]"
   ]
  },
  {
   "cell_type": "code",
   "execution_count": 198,
   "id": "e424c761",
   "metadata": {},
   "outputs": [
    {
     "data": {
      "image/png": "[encoded data removed]",
      "text/plain": [
       "<Figure size 720x504 with 1 Axes>"
      ]
     },
     "metadata": {
      "needs_background": "light"
     },
     "output_type": "display_data"
    }
   ],
   "source": [
    "import scipy.cluster.hierarchy as sch\n",
    "plt.figure(figsize=(10, 7))\n",
    "\n",
    "\n",
    "dendrogram = sch.dendrogram(sch.linkage(sample, method  = \"ward\"))\n",
    "plt.title('Dendrogram')\n",
    "plt.xlabel('Customers')\n",
    "plt.ylabel('Euclidean distances')\n",
    "plt.show()"
   ]
  },
  {
   "cell_type": "code",
   "execution_count": 8,
   "id": "3493bb45",
   "metadata": {},
   "outputs": [
    {
     "data": {
      "text/plain": [
       "0.9317193880540571"
      ]
     },
     "execution_count": 8,
     "metadata": {},
     "output_type": "execute_result"
    }
   ],
   "source": [
    "pca_b = PCA(200)\n",
    "X_train=pca_b.fit_transform(X_train)\n",
    "sum(pca_b.explained_variance_ratio_)\n"
   ]
  },
  {
   "cell_type": "code",
   "execution_count": 191,
   "id": "a58ee24e",
   "metadata": {},
   "outputs": [
    {
     "data": {
      "text/plain": [
       "array([[ -123.99379079,  1633.07439599, -1211.04119121, ...,\n",
       "           -3.00117371,    22.39695535,    71.87333023],\n",
       "       [ 1407.92885252,  -451.64133562,  -261.02703418, ...,\n",
       "           -6.72448669,   -14.50048513,    34.26646837],\n",
       "       [ -725.91079524, -1101.83813753,   106.15424242, ...,\n",
       "           -5.6567404 ,    -9.02797635,    -2.25798714],\n",
       "       ...,\n",
       "       [  857.75019572, -1180.24018348,  -520.69399443, ...,\n",
       "            5.488076  ,   -52.11287433,     5.41996141],\n",
       "       [ -807.4765258 ,  -581.21887274,   480.31990864, ...,\n",
       "          -45.37954743,   -48.99452369,     2.00666528],\n",
       "       [-1815.6638093 ,  -119.74334256,   468.91379755, ...,\n",
       "           17.92535715,   -59.92595297,     2.43314439]])"
      ]
     },
     "execution_count": 191,
     "metadata": {},
     "output_type": "execute_result"
    }
   ],
   "source": [
    "print(X_train)"
   ]
  },
  {
   "cell_type": "code",
   "execution_count": 16,
   "id": "9e331b41",
   "metadata": {},
   "outputs": [
    {
     "data": {
      "text/plain": [
       "(49000, 200)"
      ]
     },
     "execution_count": 16,
     "metadata": {},
     "output_type": "execute_result"
    }
   ],
   "source": [
    "X_train.shape"
   ]
  },
  {
   "cell_type": "code",
   "execution_count": 141,
   "id": "dbcc025c",
   "metadata": {},
   "outputs": [
    {
     "data": {
      "text/plain": [
       "<matplotlib.image.AxesImage at 0x7fa12ecf2b00>"
      ]
     },
     "execution_count": 141,
     "metadata": {},
     "output_type": "execute_result"
    },
    {
     "data": {
      "image/png": "[encoded data removed]",
      "text/plain": [
       "<Figure size 432x288 with 1 Axes>"
      ]
     },
     "metadata": {
      "needs_background": "light"
     },
     "output_type": "display_data"
    }
   ],
   "source": [
    "# plt.imshow(x_tr1)"
   ]
  },
  {
   "cell_type": "code",
   "execution_count": 193,
   "id": "2a8bdff9",
   "metadata": {},
   "outputs": [],
   "source": [
    "n_samples = 7000\n",
    "x_tr2 = x_tr[:7000]"
   ]
  },
  {
   "cell_type": "code",
   "execution_count": 194,
   "id": "d4e49b81",
   "metadata": {},
   "outputs": [],
   "source": [
    "from sklearn.cluster import AgglomerativeClustering\n",
    "AC = AgglomerativeClustering()\n",
    "AC_train = AC.fit(x_tr2)\n",
    "#hirerical clustering"
   ]
  },
  {
   "cell_type": "code",
   "execution_count": 196,
   "id": "e13be9f6",
   "metadata": {},
   "outputs": [
    {
     "name": "stdout",
     "output_type": "stream",
     "text": [
      "train set silhouette metrics: 0.16093208541485474\n"
     ]
    }
   ],
   "source": [
    "print(\"train set silhouette metrics:\",silhouette_score(X=x_tr2,labels=AC_train.labels_))\n",
    "# The Silhouette Coefficient is calculated using the mean intra-cluster\n",
    "# distance (``a``) and the mean nearest-cluster distance (``b``) for each\n",
    "# sample."
   ]
  },
  {
   "cell_type": "code",
   "execution_count": 16,
   "id": "50249bb6",
   "metadata": {},
   "outputs": [
    {
     "data": {
      "image/png": "[encoded data removed]",
      "text/plain": [
       "<Figure size 1000x500 with 1 Axes>"
      ]
     },
     "metadata": {},
     "output_type": "display_data"
    }
   ],
   "source": [
    "plt.figure(figsize=(10,5))\n",
    "nn = NearestNeighbors(n_neighbors=5).fit(X_train)\n",
    "distances, idx = nn.kneighbors(X_train)\n",
    "distances = np.sort(distances, axis=0)\n",
    "distances = distances[:,1]\n",
    "plt.plot(distances)\n",
    "plt.show()"
   ]
  },
  {
   "cell_type": "code",
   "execution_count": 23,
   "id": "a4df8d8b",
   "metadata": {},
   "outputs": [],
   "source": [
    "cluster = DBSCAN(eps=22.9, min_samples=3).fit(X_train)\n"
   ]
  },
  {
   "cell_type": "code",
   "execution_count": 27,
   "id": "364bb05f",
   "metadata": {},
   "outputs": [],
   "source": [
    "cluster1 = DBSCAN(eps=22.9, min_samples=3).fit(X_test)"
   ]
  },
  {
   "cell_type": "code",
   "execution_count": 25,
   "id": "dc0b3d31",
   "metadata": {},
   "outputs": [
    {
     "name": "stdout",
     "output_type": "stream",
     "text": [
      "train set silhouette metrics: 0.17719150379791823\n"
     ]
    }
   ],
   "source": [
    "print(\"train set silhouette metrics:\",silhouette_score(X=X_train,labels=cluster.labels_))"
   ]
  },
  {
   "cell_type": "code",
   "execution_count": 1,
   "id": "4300cbce",
   "metadata": {},
   "outputs": [
    {
     "name": "stdout",
     "output_type": "stream",
     "text": [
      "test set silhouette metrics: 0.05799873675174936\n"
     ]
    }
   ],
   "source": [
    "print(\"test set silhouette metrics:\",silhouette_score(X=X_test,labels=cluster1.labels_))"
   ]
  },
  {
   "cell_type": "code",
   "execution_count": 32,
   "id": "605e5245",
   "metadata": {},
   "outputs": [
    {
     "name": "stdout",
     "output_type": "stream",
     "text": [
      "1299 10\n"
     ]
    }
   ],
   "source": [
    "core_samples_mask = np.zeros_like(cluster.labels_, dtype=bool)\n",
    "core_samples_mask[cluster.core_sample_indices_] = True\n",
    "labels = cluster.labels_\n",
    "n_clusters_ = len(set(labels)) - (1 if -1 in labels else 0)\n",
    "n_noise_ = list(labels).count(-1)\n",
    "#print(list(cluster.labels_))\n",
    "print(n_noise_,n_clusters_)"
   ]
  },
  {
   "cell_type": "code",
   "execution_count": 31,
   "id": "ead0a677",
   "metadata": {},
   "outputs": [
    {
     "name": "stdout",
     "output_type": "stream",
     "text": [
      "1107 10\n"
     ]
    }
   ],
   "source": [
    "core_samples_mask = np.zeros_like(cluster1.labels_, dtype=bool)\n",
    "core_samples_mask[cluster1.core_sample_indices_] = True\n",
    "labels = cluster1.labels_\n",
    "n_clusters_ = len(set(labels)) - (1 if -1 in labels else 0)\n",
    "n_noise_ = list(labels).count(-1)\n",
    "#print(list(cluster.labels_))\n",
    "print(n_noise_,n_clusters_)"
   ]
  },
  {
   "cell_type": "code",
   "execution_count": 26,
   "id": "8275e39e",
   "metadata": {},
   "outputs": [
    {
     "data": {
      "text/plain": [
       "{-1, 0, 1, 2, 3, 4, 5, 6, 7, 8, 9}"
      ]
     },
     "execution_count": 26,
     "metadata": {},
     "output_type": "execute_result"
    }
   ],
   "source": [
    "set(labels)"
   ]
  }
 ],
 "metadata": {
  "kernelspec": {
   "display_name": "Python 3 (ipykernel)",
   "language": "python",
   "name": "python3"
  },
  "language_info": {
   "codemirror_mode": {
    "name": "ipython",
    "version": 3
   },
   "file_extension": ".py",
   "mimetype": "text/x-python",
   "name": "python",
   "nbconvert_exporter": "python",
   "pygments_lexer": "ipython3",
   "version": "3.8.10"
  }
 },
 "nbformat": 4,
 "nbformat_minor": 5
}
